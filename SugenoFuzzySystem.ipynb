{
 "cells": [
  {
   "cell_type": "code",
   "execution_count": 1,
   "id": "cad7b1c3",
   "metadata": {},
   "outputs": [],
   "source": [
    "import pandas as pd"
   ]
  },
  {
   "cell_type": "code",
   "execution_count": null,
   "id": "9e733040",
   "metadata": {},
   "outputs": [],
   "source": [
    "# Fungsi keanggotaan \n",
    "def triangular(x, a, b, c):\n",
    "    if x <= a or x >= c:\n",
    "        return 0.0\n",
    "    elif a < x < b:\n",
    "        return (x - a) / (b - a)\n",
    "    elif b <= x < c:\n",
    "        return (c - x) / (c - b)\n",
    "    else:\n",
    "        return 0.0"
   ]
  },
  {
   "cell_type": "code",
   "execution_count": null,
   "id": "9ebe78db",
   "metadata": {},
   "outputs": [],
   "source": [
    "# Mengkategorikan data keanggotaan fuzzy (nilai linguistik)\n",
    "def glucose_membership(x):\n",
    "    return {\n",
    "        'rendah': triangular(x, 0, 0, 0.5),\n",
    "        'sedang': triangular(x, 0, 0.5, 1),\n",
    "        'tinggi': triangular(x, 0.5, 1, 1)\n",
    "    }\n",
    "def bmi_membership(x):\n",
    "    return {\n",
    "        'rendah': triangular(x, 0, 0, 0.5),\n",
    "        'sedang': triangular(x, 0, 0.5, 1),\n",
    "        'tinggi': triangular(x, 0.5, 1, 1)\n",
    "    }\n",
    "\n",
    "def age_membership(x):\n",
    "    return {\n",
    "        'muda': triangular(x, 0, 0, 0.5),\n",
    "        'paruh_baya': triangular(x, 0, 0.5, 1),\n",
    "        'tua': triangular(x, 0.5, 1, 1)\n",
    "    }\n",
    "def dpf_membership(x):\n",
    "    return {\n",
    "        'rendah': triangular(x, 0, 0, 0.5),\n",
    "        'sedang': triangular(x, 0, 0.5, 1),\n",
    "        'tinggi': triangular(x, 0.5, 1, 1)\n",
    "    }\n",
    "\n",
    "def bp_membership(x):\n",
    "    return {\n",
    "        'rendah': triangular(x, 0, 0, 0.5),\n",
    "        'sedang': triangular(x, 0, 0.5, 1),\n",
    "        'tinggi': triangular(x, 0.5, 1, 1)\n",
    "    }"
   ]
  },
  {
   "cell_type": "code",
   "execution_count": null,
   "id": "1342ab6b",
   "metadata": {},
   "outputs": [],
   "source": [
    "def sugeno_inference(glucose, bmi, age, dpf, bp):\n",
    "    g = glucose_membership(glucose)\n",
    "    b = bmi_membership(bmi)\n",
    "    a = age_membership(age)\n",
    "    d = dpf_membership(dpf)\n",
    "    p = bp_membership(bp)\n",
    "    # Fuzzy rule\n",
    "    rules = [\n",
    "        # Rule 1: Semua tinggi -> risiko tinggi (0.9)\n",
    "        (min(g['tinggi'], b['tinggi'], a['tua'], d['tinggi'], p['tinggi']), 0.9),\n",
    "\n",
    "        # Rule 2: Semua sedang -> risiko sedang (0.5)\n",
    "        (min(g['sedang'], b['sedang'], a['paruh_baya'], d['sedang'], p['sedang']), 0.5),\n",
    "\n",
    "        # Rule 3: Semua rendah -> risiko rendah (0.1)\n",
    "        (min(g['rendah'], b['rendah'], a['muda'], d['rendah'], p['rendah']), 0.1),\n",
    "\n",
    "        # Rule 4: Glukosa tinggi meskipun faktor lain sedang -> risiko tinggi (0.8)\n",
    "        (min(g['tinggi'], b['sedang'], a['paruh_baya'], d['sedang'], p['sedang']), 0.8),\n",
    "\n",
    "        # Rule 5: BMI sangat tinggi (obesitas) dan Usia tua, meskipun Glukosa masih sedang -> risiko agak tinggi (0.7)\n",
    "        (min(g['sedang'], b['tinggi'], a['tua']), 0.7),\n",
    "\n",
    "        # Rule 6: Diabetes Pedigree Function (faktor keturunan) tinggi, dan usia sudah tua, glukosa sedang -> risiko agak tinggi (0.75)\n",
    "        (min(g['sedang'], d['tinggi'], a['tua']), 0.75),\n",
    "\n",
    "        # Rule 7: Tekanan Darah (BloodPressure) tinggi DAN BMI tinggi, meskipun glukosa sedang -> risiko sedang ke tinggi (0.65)\n",
    "        (min(g['sedang'], b['tinggi'], p['tinggi']), 0.65),\n",
    "\n",
    "        # Rule 8: Usia muda, Glukosa dan BMI normal/rendah, tapi DPF tinggi (faktor keturunan kuat) -> risiko sedikit meningkat/waspada (0.3)\n",
    "        (min(g['rendah'], b['rendah'], a['muda'], d['tinggi']), 0.3),\n",
    "\n",
    "        # Rule 9: Semua faktor rendah atau normal, kecuali tekanan darah sedikit tinggi -> risiko rendah (0.2)\n",
    "        (min(g['rendah'], b['rendah'], a['muda'], d['rendah'], p['sedang']), 0.2),\n",
    "\n",
    "        # Rule 10: Glukosa sedang, BMI sedang, Usia paruh baya, TAPI DPF tinggi dan BP tinggi -> risiko tinggi (0.85)\n",
    "        (min(g['sedang'], b['sedang'], a['paruh_baya'], d['tinggi'], p['tinggi']), 0.85),\n",
    "\n",
    "        # Rule 11: Glukosa tinggi, yang lain rendah/sedang -> tetap risiko tinggi karena glukosa (0.8)\n",
    "        (g['tinggi'], 0.8),\n",
    "\n",
    "        # Rule 12: Walaupun usia muda dan BMI normal, jika glukosa sudah tinggi -> risiko sedang ke tinggi (0.6)\n",
    "        (min(g['tinggi'], b['rendah'], a['muda']), 0.6),\n",
    "    ]\n",
    "\n",
    "    numerator = sum(alpha * z for alpha, z in rules)\n",
    "    denominator = sum(alpha for alpha, _ in rules)\n",
    "    if denominator == 0:\n",
    "        return 0\n",
    "    return numerator / denominator\n",
    "\n",
    "    return numerator / denominator"
   ]
  },
  {
   "cell_type": "code",
   "execution_count": 11,
   "id": "50b9627b",
   "metadata": {},
   "outputs": [],
   "source": [
    "# Load data yang telah dipreprocessing\n",
    "df = pd.read_csv('diabetes_preprocessed.csv')"
   ]
  },
  {
   "cell_type": "code",
   "execution_count": 13,
   "id": "7cce9586",
   "metadata": {},
   "outputs": [],
   "source": [
    "# Mengambil fitur yang dipakai\n",
    "fitur = ['Glucose', 'BMI', 'Age', 'DiabetesPedigreeFunction', 'BloodPressure']"
   ]
  },
  {
   "cell_type": "code",
   "execution_count": null,
   "id": "89d58674",
   "metadata": {},
   "outputs": [
    {
     "name": "stdout",
     "output_type": "stream",
     "text": [
      "Index 0 - Sugeno Risk Score: 0.655\n",
      "Index 1 - Sugeno Risk Score: 0.311\n",
      "Index 2 - Sugeno Risk Score: 0.698\n",
      "Index 3 - Sugeno Risk Score: 0.000\n",
      "Index 4 - Sugeno Risk Score: 0.800\n"
     ]
    }
   ],
   "source": [
    "for idx, row in df[fitur].head().iterrows():\n",
    "    hasil = sugeno_inference(\n",
    "        row['Glucose'],\n",
    "        row['BMI'],\n",
    "        row['Age'],\n",
    "        row['DiabetesPedigreeFunction'],\n",
    "        row['BloodPressure']\n",
    "    )\n",
    "    print(f\"Data ke {idx} - Sugeno Risk Score: {hasil:.3f}\")"
   ]
  },
  {
   "cell_type": "markdown",
   "id": "afb1da17",
   "metadata": {},
   "source": [
    "Uji Evaluasi Fuzzy System menggunakan metode Sugeno"
   ]
  },
  {
   "cell_type": "code",
   "execution_count": 16,
   "id": "6af44a68",
   "metadata": {},
   "outputs": [],
   "source": [
    "from sklearn.metrics import accuracy_score, f1_score, precision_score, recall_score\n",
    "\n",
    "# 1. Hitung skor risiko Sugeno untuk seluruh data\n",
    "risk_scores = []\n",
    "for idx, row in df[fitur].iterrows():\n",
    "    hasil = sugeno_inference(\n",
    "        row['Glucose'],\n",
    "        row['BMI'],\n",
    "        row['Age'],\n",
    "        row['DiabetesPedigreeFunction'],\n",
    "        row['BloodPressure']\n",
    "    )\n",
    "    risk_scores.append(hasil)"
   ]
  },
  {
   "cell_type": "code",
   "execution_count": null,
   "id": "8d96d55e",
   "metadata": {},
   "outputs": [],
   "source": [
    "# 2. Tentukan threshold untuk klasifikasi\n",
    "threshold = 0.5\n",
    "prediksi = [1 if score >= threshold else 0 for score in risk_scores]"
   ]
  },
  {
   "cell_type": "code",
   "execution_count": 18,
   "id": "38a102d3",
   "metadata": {},
   "outputs": [],
   "source": [
    "# 3. Ambil label asli\n",
    "y_true = df['Outcome'].values"
   ]
  },
  {
   "cell_type": "code",
   "execution_count": 19,
   "id": "9cf3bfae",
   "metadata": {},
   "outputs": [
    {
     "name": "stdout",
     "output_type": "stream",
     "text": [
      "Akurasi Sugeno: 0.674\n",
      "F1-score Sugeno: 0.626\n",
      "Precision Sugeno: 0.522\n",
      "Recall Sugeno: 0.780\n"
     ]
    }
   ],
   "source": [
    "# 4. Hitung metrik evaluasi\n",
    "akurasi = accuracy_score(y_true, prediksi)\n",
    "f1 = f1_score(y_true, prediksi)\n",
    "precision = precision_score(y_true, prediksi)\n",
    "recall = recall_score(y_true, prediksi)\n",
    "\n",
    "print(f\"Akurasi Sugeno: {akurasi:.3f}\")\n",
    "print(f\"F1-score Sugeno: {f1:.3f}\")\n",
    "print(f\"Precision Sugeno: {precision:.3f}\")\n",
    "print(f\"Recall Sugeno: {recall:.3f}\")"
   ]
  },
  {
   "cell_type": "code",
   "execution_count": null,
   "id": "b884704c",
   "metadata": {},
   "outputs": [],
   "source": []
  }
 ],
 "metadata": {
  "kernelspec": {
   "display_name": "base",
   "language": "python",
   "name": "python3"
  },
  "language_info": {
   "codemirror_mode": {
    "name": "ipython",
    "version": 3
   },
   "file_extension": ".py",
   "mimetype": "text/x-python",
   "name": "python",
   "nbconvert_exporter": "python",
   "pygments_lexer": "ipython3",
   "version": "3.12.7"
  }
 },
 "nbformat": 4,
 "nbformat_minor": 5
}
